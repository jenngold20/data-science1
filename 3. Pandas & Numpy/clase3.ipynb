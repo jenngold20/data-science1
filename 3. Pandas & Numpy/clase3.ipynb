{
 "cells": [
  {
   "cell_type": "markdown",
   "metadata": {},
   "source": [
    "# Pandas\n",
    "## Series"
   ]
  },
  {
   "cell_type": "code",
   "execution_count": 1,
   "metadata": {},
   "outputs": [],
   "source": [
    "import pandas as pd\n",
    "import numpy as np"
   ]
  },
  {
   "cell_type": "code",
   "execution_count": 7,
   "metadata": {},
   "outputs": [
    {
     "name": "stdout",
     "output_type": "stream",
     "text": [
      "[50, 52, 54, 56, 58, 60, 62, 64, 66, 68]\n",
      "0    50\n",
      "1    52\n",
      "2    54\n",
      "3    56\n",
      "4    58\n",
      "5    60\n",
      "6    62\n",
      "7    64\n",
      "8    66\n",
      "9    68\n",
      "dtype: int64\n",
      "54\n",
      "RangeIndex(start=0, stop=10, step=1)\n"
     ]
    }
   ],
   "source": [
    "Numeros = range(50,70,2)\n",
    "\n",
    "print(list(Numeros))\n",
    "\n",
    "Numeros_serie = pd.Series(Numeros)\n",
    "\n",
    "print(Numeros_serie)\n",
    "\n",
    "print(Numeros_serie[2])\n",
    "\n",
    "print(Numeros_serie.index)\n"
   ]
  },
  {
   "cell_type": "code",
   "execution_count": 8,
   "metadata": {},
   "outputs": [],
   "source": [
    "Numeros_en_texto = ['primero','segundo','tercero','cuarto','quinto','sexto','séptimo','octavo','noveno','décimo']\n"
   ]
  },
  {
   "cell_type": "code",
   "execution_count": 2,
   "metadata": {},
   "outputs": [
    {
     "name": "stdout",
     "output_type": "stream",
     "text": [
      "   density    pH  sulphates  alcohol  quality\n",
      "0   0.9978  3.51       0.56      9.4        5\n",
      "1   0.9968  3.20       0.68      9.8        5\n",
      "2   0.9970  3.26       0.65      9.8        5\n",
      "3   0.9980  3.16       0.58      9.8        6\n",
      "4   0.9978  3.51       0.56      9.4        5\n"
     ]
    }
   ],
   "source": [
    "# Leer el archivo CSV\n",
    "df = pd.read_csv('winequality-red.csv', sep=',')\n",
    "\n",
    "# Mostrar las primeras filas del DataFrame con las columnas específicas\n",
    "print(df[['density', 'pH', 'sulphates', 'alcohol', 'quality']].head())"
   ]
  },
  {
   "cell_type": "code",
   "execution_count": 3,
   "metadata": {},
   "outputs": [
    {
     "name": "stdout",
     "output_type": "stream",
     "text": [
      "                    Name Type 1  HP  Attack  Defense\n",
      "0              Bulbasaur  Grass  45      49       49\n",
      "1                Ivysaur  Grass  60      62       63\n",
      "2               Venusaur  Grass  80      82       83\n",
      "3  VenusaurMega Venusaur  Grass  80     100      123\n",
      "4             Charmander   Fire  39      52       43\n"
     ]
    }
   ],
   "source": [
    "# Leer el archivo TXT desde la misma carpeta o ruta específica\n",
    "df = pd.read_csv('pokemon_data.txt', delimiter='\\t')\n",
    "\n",
    "# Mostrar las primeras filas del DataFrame con las columnas específicas\n",
    "print(df[['Name', 'Type 1', 'HP', 'Attack', 'Defense']].head())"
   ]
  },
  {
   "cell_type": "code",
   "execution_count": 8,
   "metadata": {},
   "outputs": [
    {
     "name": "stdout",
     "output_type": "stream",
     "text": [
      "   index    ID  Year_Birth   Education   Income\n",
      "0      0  5524        1957  Graduation  58138.0\n",
      "1      1  2174        1954  Graduation  46344.0\n",
      "2      2  4141        1965  Graduation  71613.0\n",
      "3      3  6182        1984  Graduation  26646.0\n",
      "4      4  5324        1981         PhD  58293.0\n"
     ]
    }
   ],
   "source": [
    "# Leer el archivo Excel desde la misma carpeta o ruta específica\n",
    "\n",
    "# !pip install pandas openpyxl\n",
    "\n",
    "df = pd.read_excel('_defaultoutput.xlsx')\n",
    "\n",
    "# Mostrar las primeras filas del DataFrame con las columnas específicas\n",
    "print(df[['index', 'ID', 'Year_Birth', 'Education', 'Income']].head())"
   ]
  },
  {
   "cell_type": "code",
   "execution_count": 9,
   "metadata": {},
   "outputs": [
    {
     "name": "stdout",
     "output_type": "stream",
     "text": [
      "                 AMZN    MCD  SBUX   GOOG  MSFT\n",
      "formatted_date                                 \n",
      "2016-01-01      587.0  106.3  54.4  743.0  49.9\n",
      "2016-02-01      552.5  100.7  52.1  697.8  46.0\n",
      "2016-03-01      593.6  108.8  53.6  745.0  50.3\n",
      "2016-04-01      659.6  109.5  50.5  693.0  45.5\n",
      "2016-05-01      722.8  105.6  49.3  735.7  48.3\n"
     ]
    }
   ],
   "source": [
    "# URL del archivo CSV\n",
    "url = 'https://raw.githubusercontent.com/JJTorresDS/stocks-ds-edu/main/stocks.csv'\n",
    "\n",
    "# Leer el archivo CSV desde la URL\n",
    "df = pd.read_csv(url, index_col=0)\n",
    "\n",
    "# Mostrar las primeras 5 filas de las columnas especificadas, redondeadas a 1 decimal\n",
    "print(df[['AMZN', 'MCD', 'SBUX', 'GOOG', 'MSFT']].head(5).round(1))"
   ]
  },
  {
   "cell_type": "code",
   "execution_count": 14,
   "metadata": {},
   "outputs": [
    {
     "name": "stdout",
     "output_type": "stream",
     "text": [
      "Shape:  (159, 16)\n",
      "  manufact    model   sales  resale   type   price engine_s horsepow wheelbas  \\\n",
      "0    Acura  Integra  16.919  16.360  0.000  21.500    1.800  140.000  101.200   \n",
      "1    Acura       TL  39.384  19.875  0.000  28.400    3.200  225.000  108.100   \n",
      "2    Acura       CL  14.114  18.225  0.000  $null$    3.200  225.000  106.900   \n",
      "3    Acura       RL   8.588  29.725  0.000  42.000    3.500  210.000  114.600   \n",
      "4     Audi       A4  20.397  22.255  0.000  23.990    1.800  150.000  102.600   \n",
      "\n",
      "    width   length curb_wgt fuel_cap     mpg lnsales  partition  \n",
      "0  67.300  172.400    2.639   13.200  28.000   2.828        0.0  \n",
      "1  70.300  192.900    3.517   17.200  25.000   3.673        0.0  \n",
      "2  70.600  192.000    3.470   17.200  26.000   2.647        0.0  \n",
      "3  71.400  196.600    3.850   18.000  22.000   2.150        0.0  \n",
      "4  68.200  178.000    2.998   16.400  27.000   3.015        0.0  \n"
     ]
    }
   ],
   "source": [
    "import requests\n",
    "\n",
    "\n",
    "# URL del archivo CSV\n",
    "url = 'https://s3-api.us-geo.objectstorage.softlayer.net/cf-courses-data/CognitiveClass/ML0101ENv3/labs/cars_clus.csv'\n",
    "\n",
    "# Descargar el archivo CSV usando requests\n",
    "response = requests.get(url)\n",
    "\n",
    "# Verificar que la solicitud fue exitosa\n",
    "if response.status_code == 200:\n",
    "    # Guardar el contenido en un archivo local\n",
    "    with open('cars_clus.csv', 'wb') as file:\n",
    "        file.write(response.content)\n",
    "    \n",
    "    # Leer el archivo CSV usando pandas\n",
    "    pdf = pd.read_csv('cars_clus.csv')\n",
    "\n",
    "    # Imprimir la forma del DataFrame y las primeras 5 filas\n",
    "    print(\"Shape: \", pdf.shape)\n",
    "    print(pdf.head(5))\n",
    "else:\n",
    "    print(\"Error al descargar el archivo. Código de estado:\", response.status_code)\n"
   ]
  },
  {
   "cell_type": "code",
   "execution_count": 18,
   "metadata": {},
   "outputs": [
    {
     "name": "stdout",
     "output_type": "stream",
     "text": [
      "A1    3500\n",
      "A2    3600\n",
      "A3    3800\n",
      "A4    3900\n",
      "A5    3200\n",
      "dtype: int64\n",
      "\n",
      "\n",
      "A1    10000\n",
      "A2    11000\n",
      "A3    15000\n",
      "A4    12000\n",
      "A5     8000\n",
      "dtype: int64\n"
     ]
    }
   ],
   "source": [
    "modelos = ['A1' , 'A2' , 'A3' , 'A4' , 'A5' ]\n",
    "peso = [3500, 3600, 3800, 3900, 3200]\n",
    "precios = [10000, 11000, 15000, 12000, 8000]\n",
    "\n",
    "peso_series = pd.Series(peso, index=modelos)\n",
    "precios_series = pd.Series(precios, index=modelos) \n",
    "\n",
    "print(peso_series)\n",
    "print(\"\\n\")\n",
    "print(precios_series)"
   ]
  },
  {
   "cell_type": "code",
   "execution_count": 42,
   "metadata": {},
   "outputs": [
    {
     "name": "stdout",
     "output_type": "stream",
     "text": [
      "    Peso  Precios  Precio_PorKg\n",
      "A1  3500    10000          2.86\n",
      "A2  3600    11000          3.06\n",
      "A3  3800    15000          3.95\n",
      "A4  3900    12000          3.08\n",
      "A5  3200     8000          2.50\n"
     ]
    }
   ],
   "source": [
    "# Construir el dataframe combinando las Series\n",
    "\n",
    "autos = pd.DataFrame({'Peso': peso_series, 'Precios': precios_series})\n",
    "\n",
    "autos['Precio_PorKg'] = (autos['Precios'] / autos['Peso']).round(2)\n",
    "\n",
    "print(autos)\n",
    "\n",
    "# print(autos['Precio_PorKg'].round(2))\n",
    "\n",
    "# autos['Precio_PorKg'] = autos['Precio_PorKg'].round(2)"
   ]
  },
  {
   "cell_type": "code",
   "execution_count": 43,
   "metadata": {},
   "outputs": [
    {
     "name": "stdout",
     "output_type": "stream",
     "text": [
      "[ 3500.   10000.       2.86]\n"
     ]
    }
   ],
   "source": [
    "np.set_printoptions(precision=15, suppress=True)\n",
    "print(autos.values[0])"
   ]
  },
  {
   "cell_type": "code",
   "execution_count": 47,
   "metadata": {},
   "outputs": [
    {
     "name": "stdout",
     "output_type": "stream",
     "text": [
      "    Precios  Precio_PorKg\n",
      "A3    15000          3.95\n",
      "A4    12000          3.08\n"
     ]
    }
   ],
   "source": [
    "# Quiero quedarme con los autos con precio > 100000\n",
    "autos_caros = autos.loc[autos['Peso'] > 3700,['Precios','Precio_PorKg']]\n",
    "print(autos_caros)"
   ]
  },
  {
   "cell_type": "code",
   "execution_count": null,
   "metadata": {},
   "outputs": [],
   "source": [
    "\n",
    "autos = pd.DataFrame({'Peso': peso_series, 'Precios': precios_series})\n",
    "\n",
    "print(autos.head(2))\n",
    "print(\"\\n\")\n",
    "\n",
    "autos"
   ]
  },
  {
   "cell_type": "code",
   "execution_count": 48,
   "metadata": {},
   "outputs": [
    {
     "name": "stdout",
     "output_type": "stream",
     "text": [
      "Serie Original:\n",
      "primero    51\n",
      "segundo    53\n",
      "tercero    55\n",
      "cuarto     57\n",
      "quinto     59\n",
      "sexto      61\n",
      "séptimo    63\n",
      "octavo     65\n",
      "noveno     67\n",
      "décimo     69\n",
      "dtype: int64\n",
      "\n",
      "Serie con Números al Cuadrado:\n",
      "primero    2601\n",
      "segundo    2809\n",
      "tercero    3025\n",
      "cuarto     3249\n",
      "quinto     3481\n",
      "sexto      3721\n",
      "séptimo    3969\n",
      "octavo     4225\n",
      "noveno     4489\n",
      "décimo     4761\n",
      "dtype: int64\n"
     ]
    }
   ],
   "source": [
    "# Crear una Serie con valores numéricos\n",
    "Numeros_3 = range(51, 70, 2)  # Crea una lista de números: [51, 53, 55, 57, 59, 61, 63, 65, 67, 69]\n",
    "Numeros_en_texto = ['primero', 'segundo', 'tercero', 'cuarto', 'quinto', 'sexto', 'séptimo', 'octavo', 'noveno', 'décimo']\n",
    "Numeros_serie_3 = pd.Series(Numeros_3, index=Numeros_en_texto)\n",
    "\n",
    "# Mostrar la Serie\n",
    "print(\"Serie Original:\")\n",
    "print(Numeros_serie_3)\n",
    "\n",
    "# Aplicar una función vectorizada, por ejemplo, elevar cada número al cuadrado\n",
    "Numeros_cuadrado = Numeros_serie_3 ** 2\n",
    "\n",
    "# Mostrar la Serie con los números al cuadrado\n",
    "print(\"\\nSerie con Números al Cuadrado:\")\n",
    "print(Numeros_cuadrado)"
   ]
  },
  {
   "cell_type": "code",
   "execution_count": 49,
   "metadata": {},
   "outputs": [
    {
     "name": "stdout",
     "output_type": "stream",
     "text": [
      "DataFrame Original:\n",
      "                           Peso  Largo\n",
      "A4 3.0 Quattro 4dr manual  3583    179\n",
      "A4 3.0 Quattro 4dr auto    3627    179\n",
      "A6 3.0 4dr                 3561    192\n",
      "A6 3.0 Quattro 4dr         3880    192\n",
      "A4 3.0 convertible 2dr     3814    180\n",
      "\n",
      "Porcentaje con Respecto a la Primera Fila:\n",
      "                                 Peso       Largo\n",
      "A4 3.0 Quattro 4dr manual  100.000000  100.000000\n",
      "A4 3.0 Quattro 4dr auto    101.228021  100.000000\n",
      "A6 3.0 4dr                  99.385989  107.262570\n",
      "A6 3.0 Quattro 4dr         108.289143  107.262570\n",
      "A4 3.0 convertible 2dr     106.447111  100.558659\n"
     ]
    }
   ],
   "source": [
    "\n",
    "# Definir las listas de datos\n",
    "peso = [3583, 3627, 3561, 3880, 3814]\n",
    "largo = [179, 179, 192, 192, 180]\n",
    "modelos = ['A4 3.0 Quattro 4dr manual', 'A4 3.0 Quattro 4dr auto', 'A6 3.0 4dr', 'A6 3.0 Quattro 4dr', 'A4 3.0 convertible 2dr']\n",
    "\n",
    "# Crear el DataFrame\n",
    "Autos_2 = pd.DataFrame({'Peso': peso, 'Largo': largo}, index=modelos)\n",
    "\n",
    "# Mostrar el DataFrame original\n",
    "print(\"DataFrame Original:\")\n",
    "print(Autos_2)\n",
    "\n",
    "# Calcular el porcentaje con respecto a los valores de la primera fila\n",
    "Porcentaje_Autos = Autos_2 / Autos_2.iloc[0] * 100\n",
    "\n",
    "# Mostrar el DataFrame con los porcentajes\n",
    "print(\"\\nPorcentaje con Respecto a la Primera Fila:\")\n",
    "print(Porcentaje_Autos)\n"
   ]
  },
  {
   "cell_type": "code",
   "execution_count": 50,
   "metadata": {},
   "outputs": [
    {
     "name": "stdout",
     "output_type": "stream",
     "text": [
      "Numeros_serie_2:\n",
      "primero    50\n",
      "segundo    52\n",
      "tercero    54\n",
      "cuarto     56\n",
      "quinto     58\n",
      "sexto      60\n",
      "séptimo    62\n",
      "octavo     64\n",
      "noveno     66\n",
      "décimo     68\n",
      "dtype: int64\n",
      "\n",
      "Numeros_serie_3:\n",
      "segundo     100\n",
      "cuarto      200\n",
      "quinto      300\n",
      "sexto       400\n",
      "octavo      500\n",
      "décimo      600\n",
      "undécimo    700\n",
      "dtype: int64\n",
      "\n",
      "Resultado de la Suma de las Series:\n",
      "cuarto      256.0\n",
      "décimo      668.0\n",
      "noveno        NaN\n",
      "octavo      564.0\n",
      "primero       NaN\n",
      "quinto      358.0\n",
      "segundo     152.0\n",
      "sexto       460.0\n",
      "séptimo       NaN\n",
      "tercero       NaN\n",
      "undécimo      NaN\n",
      "dtype: float64\n"
     ]
    }
   ],
   "source": [
    "\n",
    "# Definir dos Series con índices diferentes\n",
    "Numeros_en_texto_2 = ['primero', 'segundo', 'tercero', 'cuarto', 'quinto', 'sexto', 'séptimo', 'octavo', 'noveno', 'décimo']\n",
    "Numeros_serie_2 = pd.Series([50, 52, 54, 56, 58, 60, 62, 64, 66, 68], index=Numeros_en_texto_2)\n",
    "\n",
    "Numeros_en_texto_3 = ['segundo', 'cuarto', 'quinto', 'sexto', 'octavo', 'décimo', 'undécimo']\n",
    "Numeros_serie_3 = pd.Series([100, 200, 300, 400, 500, 600, 700], index=Numeros_en_texto_3)\n",
    "\n",
    "# Mostrar las Series originales\n",
    "print(\"Numeros_serie_2:\")\n",
    "print(Numeros_serie_2)\n",
    "\n",
    "print(\"\\nNumeros_serie_3:\")\n",
    "print(Numeros_serie_3)\n",
    "\n",
    "# Sumar las Series\n",
    "Suma_Series = Numeros_serie_2 + Numeros_serie_3\n",
    "\n",
    "# Mostrar el resultado de la suma\n",
    "print(\"\\nResultado de la Suma de las Series:\")\n",
    "print(Suma_Series)\n"
   ]
  },
  {
   "cell_type": "code",
   "execution_count": 51,
   "metadata": {},
   "outputs": [
    {
     "name": "stdout",
     "output_type": "stream",
     "text": [
      "Resultado de la Suma con .add():\n",
      "cuarto      256.0\n",
      "décimo      668.0\n",
      "noveno        NaN\n",
      "octavo      564.0\n",
      "primero       NaN\n",
      "quinto      358.0\n",
      "segundo     152.0\n",
      "sexto       460.0\n",
      "séptimo       NaN\n",
      "tercero       NaN\n",
      "undécimo      NaN\n",
      "dtype: float64\n"
     ]
    }
   ],
   "source": [
    "# Definir dos Series con índices diferentes\n",
    "Numeros_en_texto_2 = ['primero', 'segundo', 'tercero', 'cuarto', 'quinto', 'sexto', 'séptimo', 'octavo', 'noveno', 'décimo']\n",
    "Numeros_serie_2 = pd.Series([50, 52, 54, 56, 58, 60, 62, 64, 66, 68], index=Numeros_en_texto_2)\n",
    "\n",
    "Numeros_en_texto_3 = ['segundo', 'cuarto', 'quinto', 'sexto', 'octavo', 'décimo', 'undécimo']\n",
    "Numeros_serie_3 = pd.Series([100, 200, 300, 400, 500, 600, 700], index=Numeros_en_texto_3)\n",
    "\n",
    "# Sumar las Series usando el método .add()\n",
    "Suma_Series_Add = Numeros_serie_2.add(Numeros_serie_3)\n",
    "\n",
    "# Mostrar el resultado de la suma\n",
    "print(\"Resultado de la Suma con .add():\")\n",
    "print(Suma_Series_Add)\n"
   ]
  },
  {
   "cell_type": "code",
   "execution_count": 52,
   "metadata": {},
   "outputs": [
    {
     "name": "stdout",
     "output_type": "stream",
     "text": [
      "\n",
      "Resultado de la Suma con .add() y fill_value:\n",
      "cuarto      256.0\n",
      "décimo      668.0\n",
      "noveno       66.0\n",
      "octavo      564.0\n",
      "primero      50.0\n",
      "quinto      358.0\n",
      "segundo     152.0\n",
      "sexto       460.0\n",
      "séptimo      62.0\n",
      "tercero      54.0\n",
      "undécimo    700.0\n",
      "dtype: float64\n"
     ]
    }
   ],
   "source": [
    "# Sumar las Series usando el método .add() con fill_value\n",
    "Suma_Series_Add_Fill = Numeros_serie_2.add(Numeros_serie_3, fill_value=0)\n",
    "\n",
    "# Mostrar el resultado de la suma con fill_value\n",
    "print(\"\\nResultado de la Suma con .add() y fill_value:\")\n",
    "print(Suma_Series_Add_Fill)\n"
   ]
  },
  {
   "cell_type": "code",
   "execution_count": 53,
   "metadata": {},
   "outputs": [
    {
     "name": "stdout",
     "output_type": "stream",
     "text": [
      "Numeros_serie_2_porcion:\n",
      "quinto     58\n",
      "sexto      60\n",
      "séptimo    62\n",
      "dtype: int64\n",
      "\n",
      "Numeros_serie_3_porcion:\n",
      "décimo      600\n",
      "undécimo    700\n",
      "dtype: int64\n",
      "\n",
      "Suma de las porciones:\n",
      "décimo     NaN\n",
      "quinto     NaN\n",
      "sexto      NaN\n",
      "séptimo    NaN\n",
      "undécimo   NaN\n",
      "dtype: float64\n"
     ]
    }
   ],
   "source": [
    "# Definir las Series con índices\n",
    "Numeros_en_texto_2 = ['primero', 'segundo', 'tercero', 'cuarto', 'quinto', 'sexto', 'séptimo', 'octavo', 'noveno', 'décimo']\n",
    "Numeros_serie_2 = pd.Series([50, 52, 54, 56, 58, 60, 62, 64, 66, 68], index=Numeros_en_texto_2)\n",
    "\n",
    "Numeros_en_texto_3 = ['segundo', 'cuarto', 'quinto', 'sexto', 'octavo', 'décimo', 'undécimo']\n",
    "Numeros_serie_3 = pd.Series([100, 200, 300, 400, 500, 600, 700], index=Numeros_en_texto_3)\n",
    "\n",
    "# Crear porciones de las Series\n",
    "Numeros_serie_2_porcion = Numeros_serie_2[4:7]\n",
    "Numeros_serie_3_porcion = Numeros_serie_3[5:8]\n",
    "\n",
    "# Mostrar las porciones\n",
    "print(\"Numeros_serie_2_porcion:\")\n",
    "print(Numeros_serie_2_porcion)\n",
    "\n",
    "print(\"\\nNumeros_serie_3_porcion:\")\n",
    "print(Numeros_serie_3_porcion)\n",
    "\n",
    "# Sumar las porciones\n",
    "Suma_Porciones = Numeros_serie_2_porcion + Numeros_serie_3_porcion\n",
    "print(\"\\nSuma de las porciones:\")\n",
    "print(Suma_Porciones)\n",
    "\n"
   ]
  },
  {
   "cell_type": "code",
   "execution_count": 54,
   "metadata": {},
   "outputs": [
    {
     "name": "stdout",
     "output_type": "stream",
     "text": [
      "décimo      600.0\n",
      "quinto       58.0\n",
      "sexto        60.0\n",
      "séptimo      62.0\n",
      "undécimo    700.0\n",
      "dtype: float64\n"
     ]
    }
   ],
   "source": [
    "# Definir las Series con índices\n",
    "Numeros_en_texto_2 = ['primero', 'segundo', 'tercero', 'cuarto', 'quinto', 'sexto', 'séptimo', 'octavo', 'noveno', 'décimo']\n",
    "Numeros_serie_2 = pd.Series([50, 52, 54, 56, 58, 60, 62, 64, 66, 68], index=Numeros_en_texto_2)\n",
    "\n",
    "Numeros_en_texto_3 = ['segundo', 'cuarto', 'quinto', 'sexto', 'octavo', 'décimo', 'undécimo']\n",
    "Numeros_serie_3 = pd.Series([100, 200, 300, 400, 500, 600, 700], index=Numeros_en_texto_3)\n",
    "\n",
    "# Crear porciones de las Series\n",
    "Numeros_serie_2_porcion = Numeros_serie_2[4:7]\n",
    "Numeros_serie_3_porcion = Numeros_serie_3[5:8]\n",
    "\n",
    "# Sumar las porciones con fill_value=0\n",
    "Suma_Porciones = Numeros_serie_2_porcion.add(Numeros_serie_3_porcion, fill_value=0)\n",
    "print(Suma_Porciones)"
   ]
  },
  {
   "cell_type": "code",
   "execution_count": 55,
   "metadata": {},
   "outputs": [
    {
     "name": "stdout",
     "output_type": "stream",
     "text": [
      "0    15.0\n",
      "1     NaN\n",
      "2    35.0\n",
      "dtype: float64\n"
     ]
    }
   ],
   "source": [
    "\n",
    "# Crear una Serie con un valor NaN\n",
    "serie = pd.Series([10, np.nan, 30])\n",
    "\n",
    "# Sumar 5 a la Serie\n",
    "resultado = serie + 5\n",
    "print(resultado)"
   ]
  },
  {
   "cell_type": "code",
   "execution_count": 56,
   "metadata": {},
   "outputs": [
    {
     "name": "stdout",
     "output_type": "stream",
     "text": [
      "False\n"
     ]
    }
   ],
   "source": [
    "# Comparar NaN con NaN\n",
    "print(np.nan == np.nan)  # Output: False"
   ]
  },
  {
   "cell_type": "code",
   "execution_count": 57,
   "metadata": {},
   "outputs": [
    {
     "name": "stdout",
     "output_type": "stream",
     "text": [
      "0    False\n",
      "1     True\n",
      "2    False\n",
      "dtype: bool\n"
     ]
    }
   ],
   "source": [
    "# Detectar NaN en una Serie\n",
    "print(serie.isna())"
   ]
  },
  {
   "cell_type": "code",
   "execution_count": 59,
   "metadata": {},
   "outputs": [
    {
     "name": "stdout",
     "output_type": "stream",
     "text": [
      "0    10.0\n",
      "1     3.0\n",
      "2    30.0\n",
      "dtype: float64\n"
     ]
    }
   ],
   "source": [
    "# Reemplazar NaN con un valor específico\n",
    "serie_limpia = serie.fillna(3)\n",
    "print(serie_limpia)\n"
   ]
  },
  {
   "cell_type": "code",
   "execution_count": 60,
   "metadata": {},
   "outputs": [
    {
     "name": "stdout",
     "output_type": "stream",
     "text": [
      "nan\n"
     ]
    }
   ],
   "source": [
    "# Crear un valor NaN\n",
    "valor_nan = np.nan\n",
    "\n",
    "# Operar con NaN\n",
    "resultado = 2 * valor_nan\n",
    "print(resultado)"
   ]
  },
  {
   "cell_type": "code",
   "execution_count": 61,
   "metadata": {},
   "outputs": [
    {
     "name": "stdout",
     "output_type": "stream",
     "text": [
      "<class 'float'>\n"
     ]
    }
   ],
   "source": [
    "print(type(valor_nan))"
   ]
  },
  {
   "cell_type": "code",
   "execution_count": 62,
   "metadata": {},
   "outputs": [
    {
     "name": "stdout",
     "output_type": "stream",
     "text": [
      "2.0\n"
     ]
    }
   ],
   "source": [
    "# Calcular el producto de una lista con NaN\n",
    "resultado = np.nanprod([2, valor_nan])\n",
    "print(resultado)\n"
   ]
  },
  {
   "cell_type": "code",
   "execution_count": 63,
   "metadata": {},
   "outputs": [
    {
     "name": "stdout",
     "output_type": "stream",
     "text": [
      "cuarto      111.0\n",
      "décimo      135.0\n",
      "noveno      131.0\n",
      "octavo      127.0\n",
      "primero       NaN\n",
      "quinto      115.0\n",
      "segundo     103.0\n",
      "sexto       119.0\n",
      "séptimo     123.0\n",
      "tercero     107.0\n",
      "undécimo      NaN\n",
      "dtype: float64\n"
     ]
    }
   ],
   "source": [
    "# Definir las series originales con índices\n",
    "Numeros_serie_2 = pd.Series([50, 52, 54, 56, 58, 60, 62, 64, 66, 68],\n",
    "                            index=['primero', 'segundo', 'tercero', 'cuarto', 'quinto', 'sexto', 'séptimo', 'octavo', 'noveno', 'décimo'])\n",
    "Numeros_serie_3 = pd.Series([51, 53, 55, 57, 59, 61, 63, 65, 67, 69],\n",
    "                            index=['segundo', 'tercero', 'cuarto', 'quinto', 'sexto', 'séptimo', 'octavo', 'noveno', 'décimo', 'undécimo'])\n",
    "\n",
    "# Crear un conjunto de prueba con NaN\n",
    "Numeros_nan = Numeros_serie_2 + Numeros_serie_3\n",
    "print(Numeros_nan)\n"
   ]
  },
  {
   "cell_type": "code",
   "execution_count": 64,
   "metadata": {},
   "outputs": [
    {
     "name": "stdout",
     "output_type": "stream",
     "text": [
      "cuarto      111.0\n",
      "décimo      135.0\n",
      "noveno      131.0\n",
      "octavo      127.0\n",
      "primero       0.0\n",
      "quinto      115.0\n",
      "segundo     103.0\n",
      "sexto       119.0\n",
      "séptimo     123.0\n",
      "tercero     107.0\n",
      "undécimo      0.0\n",
      "dtype: float64\n"
     ]
    }
   ],
   "source": [
    "Numeros_nan_relleno = Numeros_nan.fillna(0)\n",
    "print(Numeros_nan_relleno)"
   ]
  },
  {
   "cell_type": "code",
   "execution_count": 65,
   "metadata": {},
   "outputs": [
    {
     "name": "stdout",
     "output_type": "stream",
     "text": [
      "cuarto     111.0\n",
      "décimo     135.0\n",
      "noveno     131.0\n",
      "octavo     127.0\n",
      "quinto     115.0\n",
      "segundo    103.0\n",
      "sexto      119.0\n",
      "séptimo    123.0\n",
      "tercero    107.0\n",
      "dtype: float64\n"
     ]
    }
   ],
   "source": [
    "Numeros_nan_sin_na = Numeros_nan.dropna()\n",
    "print(Numeros_nan_sin_na)\n"
   ]
  },
  {
   "cell_type": "code",
   "execution_count": 66,
   "metadata": {},
   "outputs": [
    {
     "name": "stdout",
     "output_type": "stream",
     "text": [
      "cuarto      111.0\n",
      "décimo      135.0\n",
      "noveno      131.0\n",
      "octavo      127.0\n",
      "primero     121.0\n",
      "quinto      115.0\n",
      "segundo     103.0\n",
      "sexto       119.0\n",
      "séptimo     123.0\n",
      "tercero     107.0\n",
      "undécimo    107.0\n",
      "dtype: float64\n"
     ]
    }
   ],
   "source": [
    "Numeros_nan_interpolado = Numeros_nan.interpolate()\n",
    "print(Numeros_nan_interpolado)"
   ]
  },
  {
   "cell_type": "code",
   "execution_count": 67,
   "metadata": {},
   "outputs": [
    {
     "name": "stdout",
     "output_type": "stream",
     "text": [
      "primero    False\n",
      "segundo    False\n",
      "tercero     True\n",
      "cuarto     False\n",
      "quinto      True\n",
      "sexto      False\n",
      "séptimo    False\n",
      "octavo      True\n",
      "noveno     False\n",
      "décimo     False\n",
      "dtype: bool\n"
     ]
    }
   ],
   "source": [
    "# Definir una Serie con valores ausentes\n",
    "Numeros_nan = pd.Series([50, 52, np.nan, 56, np.nan, 60, 62, np.nan, 66, 68],\n",
    "                        index=['primero', 'segundo', 'tercero', 'cuarto', 'quinto', 'sexto', 'séptimo', 'octavo', 'noveno', 'décimo'])\n",
    "\n",
    "# Identificar valores ausentes\n",
    "print(Numeros_nan.isnull())"
   ]
  }
 ],
 "metadata": {
  "kernelspec": {
   "display_name": "Python 3",
   "language": "python",
   "name": "python3"
  },
  "language_info": {
   "codemirror_mode": {
    "name": "ipython",
    "version": 3
   },
   "file_extension": ".py",
   "mimetype": "text/x-python",
   "name": "python",
   "nbconvert_exporter": "python",
   "pygments_lexer": "ipython3",
   "version": "3.11.9"
  }
 },
 "nbformat": 4,
 "nbformat_minor": 2
}
