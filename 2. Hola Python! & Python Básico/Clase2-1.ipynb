{
 "cells": [
  {
   "cell_type": "code",
   "execution_count": 2,
   "metadata": {},
   "outputs": [],
   "source": [
    "#Estamos explorando datos simples\n",
    "\n",
    "dato_num = 8\n",
    "dato_float = 10.22\n",
    "dato_booleano_1= True\n",
    "dato_booleano_2= False\n",
    "dato_string= 'Soy Jenni'\n"
   ]
  },
  {
   "cell_type": "code",
   "execution_count": 3,
   "metadata": {},
   "outputs": [
    {
     "name": "stdout",
     "output_type": "stream",
     "text": [
      "8\n",
      "<class 'int'>\n"
     ]
    }
   ],
   "source": [
    "print(dato_num)\n",
    "print(type(dato_num))\n"
   ]
  },
  {
   "cell_type": "code",
   "execution_count": 4,
   "metadata": {},
   "outputs": [
    {
     "name": "stdout",
     "output_type": "stream",
     "text": [
      "Los datos son:\n",
      "True False\n",
      "\n",
      "Los tipos de datos son: \n",
      "<class 'bool'> <class 'bool'>\n"
     ]
    }
   ],
   "source": [
    "print('Los datos son:')\n",
    "print(dato_booleano_1, dato_booleano_2)\n",
    "print('')\n",
    "print('Los tipos de datos son: ')\n",
    "print(type(dato_booleano_1), type(dato_booleano_2))"
   ]
  },
  {
   "cell_type": "code",
   "execution_count": 5,
   "metadata": {},
   "outputs": [],
   "source": [
    "#Vamos a explorar datos estructurados\n",
    "persona= {'nombre' : 'Jenni', 'edad' : 30, 'profesion': 'programadora'}\n",
    "          "
   ]
  },
  {
   "cell_type": "code",
   "execution_count": 6,
   "metadata": {},
   "outputs": [
    {
     "name": "stdout",
     "output_type": "stream",
     "text": [
      "Jenni\n"
     ]
    }
   ],
   "source": [
    "print(persona['nombre'] )"
   ]
  },
  {
   "cell_type": "markdown",
   "metadata": {},
   "source": [
    "# Estructuras de control\n",
    "En este apartado vamos a aprender cómo es la sintaxis para ejecutar distintas estructuras de control.\n",
    "\n",
    "* **FOR:** Es la estructura para hacer bucles.\n",
    "* **WHILE**\n",
    "* **IF**"
   ]
  },
  {
   "cell_type": "code",
   "execution_count": 7,
   "metadata": {},
   "outputs": [
    {
     "data": {
      "text/plain": [
       "range"
      ]
     },
     "execution_count": 7,
     "metadata": {},
     "output_type": "execute_result"
    }
   ],
   "source": [
    "#FOR\n",
    "rango = range(1, 10 )\n",
    "type(rango)"
   ]
  },
  {
   "cell_type": "code",
   "execution_count": 8,
   "metadata": {},
   "outputs": [
    {
     "name": "stdout",
     "output_type": "stream",
     "text": [
      "Primer elemento:  1\n",
      "Último elemento:  9\n"
     ]
    }
   ],
   "source": [
    "#Exploremos que elementos tienen \n",
    "print('Primer elemento: ', rango[0])\n",
    "print('Último elemento: ', rango[-1])"
   ]
  },
  {
   "cell_type": "code",
   "execution_count": 9,
   "metadata": {},
   "outputs": [
    {
     "name": "stdout",
     "output_type": "stream",
     "text": [
      "2 2\n",
      "3 6\n",
      "4 12\n",
      "5 20\n",
      "6 30\n",
      "7 42\n",
      "8 56\n",
      "9 72\n",
      "10 90\n"
     ]
    }
   ],
   "source": [
    "#Programemos el bucle\n",
    "for i in rango:\n",
    "    a= i + 1\n",
    "    b = a * i\n",
    "    print(a, b)"
   ]
  },
  {
   "cell_type": "code",
   "execution_count": 10,
   "metadata": {},
   "outputs": [
    {
     "name": "stdout",
     "output_type": "stream",
     "text": [
      "4\n",
      "4\n",
      "4\n",
      "4\n",
      "4\n",
      "4\n",
      "4\n",
      "4\n",
      "4\n"
     ]
    }
   ],
   "source": [
    "for i in rango:\n",
    "    a = 2+ 2\n",
    "    print (a)"
   ]
  },
  {
   "cell_type": "code",
   "execution_count": null,
   "metadata": {},
   "outputs": [],
   "source": []
  },
  {
   "cell_type": "markdown",
   "metadata": {},
   "source": [
    "# Un solo numeral\n",
    "## Dos numerales\n",
    "### Tres Numerales "
   ]
  },
  {
   "cell_type": "markdown",
   "metadata": {},
   "source": [
    "def funcion_clasificadora(x):\n",
    "    \n",
    "    if x <= 4:\n",
    "        resultado = 'Primer grupo ' + str(x)\n",
    "    elif x <= 6:\n",
    "        resultado = 'otra cosa ' + str(x*2)\n",
    "    else: \n",
    "        resultado = 'final ' + str(x**2)\n",
    "    \n",
    "    return resultado"
   ]
  },
  {
   "cell_type": "code",
   "execution_count": 3,
   "metadata": {},
   "outputs": [],
   "source": [
    "def funcion_clasificadora(x):\n",
    "    \n",
    "    if x <= 4:\n",
    "        resultado = 'Primer grupo ' + str(x)\n",
    "    elif x <= 6:\n",
    "        resultado = 'otra cosa ' + str(x*2)\n",
    "    else: \n",
    "        resultado = 'final ' + str(x**2)\n",
    "    \n",
    "    return resultado"
   ]
  },
  {
   "cell_type": "code",
   "execution_count": 4,
   "metadata": {},
   "outputs": [
    {
     "data": {
      "text/plain": [
       "'otra cosa 10'"
      ]
     },
     "execution_count": 4,
     "metadata": {},
     "output_type": "execute_result"
    }
   ],
   "source": [
    "funcion_clasificadora(5)\n"
   ]
  },
  {
   "cell_type": "code",
   "execution_count": 13,
   "metadata": {},
   "outputs": [
    {
     "name": "stdout",
     "output_type": "stream",
     "text": [
      "Primer grupo 1\n",
      "Primer grupo 2\n",
      "Primer grupo 3\n",
      "Primer grupo 4\n",
      "otra cosa 10\n",
      "otra cosa 12\n",
      "final 49\n",
      "final 64\n",
      "final 81\n"
     ]
    }
   ],
   "source": [
    "for i in rango: \n",
    "    print(funcion_clasificadora(i))"
   ]
  }
 ],
 "metadata": {
  "kernelspec": {
   "display_name": "Python 3",
   "language": "python",
   "name": "python3"
  },
  "language_info": {
   "codemirror_mode": {
    "name": "ipython",
    "version": 3
   },
   "file_extension": ".py",
   "mimetype": "text/x-python",
   "name": "python",
   "nbconvert_exporter": "python",
   "pygments_lexer": "ipython3",
   "version": "3.11.9"
  }
 },
 "nbformat": 4,
 "nbformat_minor": 2
}
